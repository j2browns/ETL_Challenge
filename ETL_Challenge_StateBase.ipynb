{
 "cells": [
  {
   "cell_type": "code",
   "execution_count": 1,
   "metadata": {},
   "outputs": [],
   "source": [
    "import pandas as pd\n",
    "from bs4 import BeautifulSoup\n",
    "import requests\n",
    "import json\n",
    "from splinter import Browser\n",
    "import time\n",
    "from config import ckey"
   ]
  },
  {
   "cell_type": "markdown",
   "metadata": {},
   "source": [
    "### Key Variable List\n",
    "\n",
    "1. state_pop_df = state name, population, code direct from Census.  Imported by JSON and converted to dataframe.\n",
    "2. state_list_df = sub set of state_pop_df where state population exceeds 5,000,000 people\n",
    "3. state_code_df = list of states and abbreviation (example Minnesota = MN) taken from https://worldpopulationreview.com/states/state-abbreviations as a table read from HTML code.\n",
    "4. state_dict = is a dictionnary created from state_code_df so easy to get state abbreviation.\n",
    "\n"
   ]
  },
  {
   "cell_type": "code",
   "execution_count": 2,
   "metadata": {},
   "outputs": [],
   "source": [
    "\n",
    "#ckey = \"f8d91c497f65177f38e048c6cab6476bdd6de05c\"\n",
    "census_url = f\"https://api.census.gov/data/2014/pep/natstprc?get=STNAME,POP&DATE_=7&for=state:*&key={ckey}\"\n",
    "response = requests.get(census_url).json()\n"
   ]
  },
  {
   "cell_type": "code",
   "execution_count": 3,
   "metadata": {},
   "outputs": [],
   "source": [
    "state_pop_df = pd.DataFrame(response[1:], columns = response[0])\n"
   ]
  },
  {
   "cell_type": "code",
   "execution_count": 5,
   "metadata": {},
   "outputs": [
    {
     "name": "stdout",
     "output_type": "stream",
     "text": [
      "Number of states to investigate: 22\n"
     ]
    },
    {
     "data": {
      "text/html": [
       "<div>\n",
       "<style scoped>\n",
       "    .dataframe tbody tr th:only-of-type {\n",
       "        vertical-align: middle;\n",
       "    }\n",
       "\n",
       "    .dataframe tbody tr th {\n",
       "        vertical-align: top;\n",
       "    }\n",
       "\n",
       "    .dataframe thead th {\n",
       "        text-align: right;\n",
       "    }\n",
       "</style>\n",
       "<table border=\"1\" class=\"dataframe\">\n",
       "  <thead>\n",
       "    <tr style=\"text-align: right;\">\n",
       "      <th></th>\n",
       "      <th>STNAME</th>\n",
       "      <th>POP</th>\n",
       "      <th>DATE_</th>\n",
       "      <th>state</th>\n",
       "    </tr>\n",
       "  </thead>\n",
       "  <tbody>\n",
       "    <tr>\n",
       "      <th>2</th>\n",
       "      <td>Arizona</td>\n",
       "      <td>6731484</td>\n",
       "      <td>7</td>\n",
       "      <td>04</td>\n",
       "    </tr>\n",
       "    <tr>\n",
       "      <th>4</th>\n",
       "      <td>California</td>\n",
       "      <td>38802500</td>\n",
       "      <td>7</td>\n",
       "      <td>06</td>\n",
       "    </tr>\n",
       "    <tr>\n",
       "      <th>5</th>\n",
       "      <td>Colorado</td>\n",
       "      <td>5355866</td>\n",
       "      <td>7</td>\n",
       "      <td>08</td>\n",
       "    </tr>\n",
       "    <tr>\n",
       "      <th>9</th>\n",
       "      <td>Florida</td>\n",
       "      <td>19893297</td>\n",
       "      <td>7</td>\n",
       "      <td>12</td>\n",
       "    </tr>\n",
       "    <tr>\n",
       "      <th>10</th>\n",
       "      <td>Georgia</td>\n",
       "      <td>10097343</td>\n",
       "      <td>7</td>\n",
       "      <td>13</td>\n",
       "    </tr>\n",
       "    <tr>\n",
       "      <th>13</th>\n",
       "      <td>Illinois</td>\n",
       "      <td>12880580</td>\n",
       "      <td>7</td>\n",
       "      <td>17</td>\n",
       "    </tr>\n",
       "    <tr>\n",
       "      <th>14</th>\n",
       "      <td>Indiana</td>\n",
       "      <td>6596855</td>\n",
       "      <td>7</td>\n",
       "      <td>18</td>\n",
       "    </tr>\n",
       "    <tr>\n",
       "      <th>20</th>\n",
       "      <td>Maryland</td>\n",
       "      <td>5976407</td>\n",
       "      <td>7</td>\n",
       "      <td>24</td>\n",
       "    </tr>\n",
       "    <tr>\n",
       "      <th>21</th>\n",
       "      <td>Massachusetts</td>\n",
       "      <td>6745408</td>\n",
       "      <td>7</td>\n",
       "      <td>25</td>\n",
       "    </tr>\n",
       "    <tr>\n",
       "      <th>22</th>\n",
       "      <td>Michigan</td>\n",
       "      <td>9909877</td>\n",
       "      <td>7</td>\n",
       "      <td>26</td>\n",
       "    </tr>\n",
       "    <tr>\n",
       "      <th>23</th>\n",
       "      <td>Minnesota</td>\n",
       "      <td>5457173</td>\n",
       "      <td>7</td>\n",
       "      <td>27</td>\n",
       "    </tr>\n",
       "    <tr>\n",
       "      <th>25</th>\n",
       "      <td>Missouri</td>\n",
       "      <td>6063589</td>\n",
       "      <td>7</td>\n",
       "      <td>29</td>\n",
       "    </tr>\n",
       "    <tr>\n",
       "      <th>30</th>\n",
       "      <td>New Jersey</td>\n",
       "      <td>8938175</td>\n",
       "      <td>7</td>\n",
       "      <td>34</td>\n",
       "    </tr>\n",
       "    <tr>\n",
       "      <th>32</th>\n",
       "      <td>New York</td>\n",
       "      <td>19746227</td>\n",
       "      <td>7</td>\n",
       "      <td>36</td>\n",
       "    </tr>\n",
       "    <tr>\n",
       "      <th>33</th>\n",
       "      <td>North Carolina</td>\n",
       "      <td>9943964</td>\n",
       "      <td>7</td>\n",
       "      <td>37</td>\n",
       "    </tr>\n",
       "    <tr>\n",
       "      <th>35</th>\n",
       "      <td>Ohio</td>\n",
       "      <td>11594163</td>\n",
       "      <td>7</td>\n",
       "      <td>39</td>\n",
       "    </tr>\n",
       "    <tr>\n",
       "      <th>38</th>\n",
       "      <td>Pennsylvania</td>\n",
       "      <td>12787209</td>\n",
       "      <td>7</td>\n",
       "      <td>42</td>\n",
       "    </tr>\n",
       "    <tr>\n",
       "      <th>42</th>\n",
       "      <td>Tennessee</td>\n",
       "      <td>6549352</td>\n",
       "      <td>7</td>\n",
       "      <td>47</td>\n",
       "    </tr>\n",
       "    <tr>\n",
       "      <th>43</th>\n",
       "      <td>Texas</td>\n",
       "      <td>26956958</td>\n",
       "      <td>7</td>\n",
       "      <td>48</td>\n",
       "    </tr>\n",
       "    <tr>\n",
       "      <th>46</th>\n",
       "      <td>Virginia</td>\n",
       "      <td>8326289</td>\n",
       "      <td>7</td>\n",
       "      <td>51</td>\n",
       "    </tr>\n",
       "    <tr>\n",
       "      <th>47</th>\n",
       "      <td>Washington</td>\n",
       "      <td>7061530</td>\n",
       "      <td>7</td>\n",
       "      <td>53</td>\n",
       "    </tr>\n",
       "    <tr>\n",
       "      <th>49</th>\n",
       "      <td>Wisconsin</td>\n",
       "      <td>5757564</td>\n",
       "      <td>7</td>\n",
       "      <td>55</td>\n",
       "    </tr>\n",
       "  </tbody>\n",
       "</table>\n",
       "</div>"
      ],
      "text/plain": [
       "            STNAME       POP DATE_ state\n",
       "2          Arizona   6731484     7    04\n",
       "4       California  38802500     7    06\n",
       "5         Colorado   5355866     7    08\n",
       "9          Florida  19893297     7    12\n",
       "10         Georgia  10097343     7    13\n",
       "13        Illinois  12880580     7    17\n",
       "14         Indiana   6596855     7    18\n",
       "20        Maryland   5976407     7    24\n",
       "21   Massachusetts   6745408     7    25\n",
       "22        Michigan   9909877     7    26\n",
       "23       Minnesota   5457173     7    27\n",
       "25        Missouri   6063589     7    29\n",
       "30      New Jersey   8938175     7    34\n",
       "32        New York  19746227     7    36\n",
       "33  North Carolina   9943964     7    37\n",
       "35            Ohio  11594163     7    39\n",
       "38    Pennsylvania  12787209     7    42\n",
       "42       Tennessee   6549352     7    47\n",
       "43           Texas  26956958     7    48\n",
       "46        Virginia   8326289     7    51\n",
       "47      Washington   7061530     7    53\n",
       "49       Wisconsin   5757564     7    55"
      ]
     },
     "execution_count": 5,
     "metadata": {},
     "output_type": "execute_result"
    }
   ],
   "source": [
    "state_pop_df[\"POP\"] = pd.to_numeric(state_pop_df[\"POP\"])\n",
    "state_list_df = state_pop_df[state_pop_df[\"POP\"]>5000000]\n",
    "print(f\"Number of states to investigate: {len(state_list_df)}\")\n",
    "state_list_df"
   ]
  },
  {
   "cell_type": "code",
   "execution_count": 14,
   "metadata": {},
   "outputs": [],
   "source": [
    "#getting state abbreviation codes\n",
    "pop_review_url =\"https://worldpopulationreview.com/states/state-abbreviations\"\n",
    "#setup for splinter\n",
    "executable_path = {'executable_path': 'c:/bin/chromedriver.exe'}\n",
    "browser = Browser('chrome', **executable_path, headless=False)\n",
    "\n",
    "\n",
    "browser.visit(pop_review_url)\n",
    "tables = pd.read_html(pop_review_url)\n",
    "state_code_df = tables[0]\n",
    "browser.quit()"
   ]
  },
  {
   "cell_type": "code",
   "execution_count": 15,
   "metadata": {},
   "outputs": [],
   "source": [
    "state_code_df = state_code_df.drop(['Abbreviation'],axis=1)\n"
   ]
  },
  {
   "cell_type": "code",
   "execution_count": 16,
   "metadata": {},
   "outputs": [],
   "source": [
    "state_code_df.set_index('State', inplace=True)"
   ]
  },
  {
   "cell_type": "code",
   "execution_count": 17,
   "metadata": {},
   "outputs": [
    {
     "name": "stdout",
     "output_type": "stream",
     "text": [
      "Testing Dictionnary\n",
      "Abbreviation for Georgia is: GA\n"
     ]
    }
   ],
   "source": [
    "state_dict = state_code_df.to_dict('index')\n",
    "print(f\"Testing Dictionnary\")\n",
    "print(f\"Abbreviation for Georgia is: {state_dict['Georgia']['Code']}\")"
   ]
  },
  {
   "cell_type": "code",
   "execution_count": null,
   "metadata": {},
   "outputs": [],
   "source": [
    "\n"
   ]
  },
  {
   "cell_type": "code",
   "execution_count": 75,
   "metadata": {},
   "outputs": [],
   "source": [
    "## getting info from Craigslist\n",
    "base_url = \"https://geo.craigslist.org/iso/us/\" #put short form of state at end to get list of cities in craigslist for state\n",
    "model_list = [\"subaru\",\"honda\", \"toyota\",\"BMW\",\"mercedes\",\"ford\",\"dodge\", \"chrysler\",\"chevrolet\",\"chevy\"]\n",
    "state_car_totals_df = pd.DataFrame(columns = [\"state\", *model_list])\n",
    "state_car_totals_df\n",
    "result_dict = {}"
   ]
  },
  {
   "cell_type": "code",
   "execution_count": null,
   "metadata": {},
   "outputs": [
    {
     "name": "stdout",
     "output_type": "stream",
     "text": [
      "State: AZ\n",
      "Total number of model subaru in Arizona is 131\n",
      "Total number of model honda in Arizona is 877\n",
      "Total number of model toyota in Arizona is 945\n",
      "Total number of model BMW in Arizona is 469\n",
      "Total number of model mercedes in Arizona is 334\n",
      "Total number of model ford in Arizona is 2099\n",
      "Total number of model dodge in Arizona is 665\n",
      "Total number of model chrysler in Arizona is 328\n",
      "Total number of model chevrolet in Arizona is 1411\n",
      "Total number of model chevy in Arizona is 224\n",
      "State: CA\n",
      "Total number of model subaru in California is 1161\n",
      "Total number of model honda in California is 4713\n",
      "Total number of model toyota in California is 6764\n",
      "Total number of model BMW in California is 3506\n",
      "Total number of model mercedes in California is 2258\n",
      "Total number of model ford in California is 7798\n",
      "Total number of model dodge in California is 1550\n",
      "Total number of model chrysler in California is 777\n",
      "Total number of model chevrolet in California is 4260\n",
      "Total number of model chevy in California is 843\n",
      "State: CO\n",
      "Total number of model subaru in Colorado is 782\n",
      "Total number of model honda in Colorado is 638\n",
      "Total number of model toyota in Colorado is 980\n",
      "Total number of model BMW in Colorado is 402\n",
      "Total number of model mercedes in Colorado is 212\n",
      "Total number of model ford in Colorado is 2196\n",
      "Total number of model dodge in Colorado is 482\n",
      "Total number of model chrysler in Colorado is 148\n",
      "Total number of model chevrolet in Colorado is 1099\n",
      "Total number of model chevy in Colorado is 140\n",
      "State: FL\n",
      "Total number of model subaru in Florida is 202\n",
      "Total number of model honda in Florida is 1195\n",
      "Total number of model toyota in Florida is 1696\n",
      "Total number of model BMW in Florida is 1186\n",
      "Total number of model mercedes in Florida is 1013\n",
      "Total number of model ford in Florida is 3387\n",
      "Total number of model dodge in Florida is 999\n",
      "Total number of model chrysler in Florida is 411\n",
      "Total number of model chevrolet in Florida is 1964\n",
      "Total number of model chevy in Florida is 372\n",
      "State: GA\n",
      "Total number of model subaru in Georgia is 42\n",
      "Total number of model honda in Georgia is 450\n",
      "Total number of model toyota in Georgia is 449\n",
      "Total number of model BMW in Georgia is 183\n",
      "Total number of model mercedes in Georgia is 144\n",
      "Total number of model ford in Georgia is 971\n",
      "Total number of model dodge in Georgia is 387\n",
      "Total number of model chrysler in Georgia is 100\n",
      "Total number of model chevrolet in Georgia is 501\n",
      "Total number of model chevy in Georgia is 68\n",
      "State: IL\n",
      "Total number of model subaru in Illinois is 119\n",
      "Total number of model honda in Illinois is 474\n",
      "Total number of model toyota in Illinois is 501\n",
      "Total number of model BMW in Illinois is 234\n",
      "Total number of model mercedes in Illinois is 196\n"
     ]
    }
   ],
   "source": [
    "for i in range(0,len(state_list_df)):#iterating through states\n",
    "    result_dict = {} #clear place holder dictionnary\n",
    "    State = state_list_df.iloc[i][0] #get state\n",
    "    State_AB = state_dict[State]['Code'] #get state abbrevation\n",
    "    CL_url = base_url+State_AB #creating web address to see available cities\n",
    "    result_dict[\"state\"] = State\n",
    "\n",
    "    CL_response = requests.get(CL_url)\n",
    "    # Create BeautifulSoup object; parse with 'html.parser'\n",
    "    CL_soup = BeautifulSoup(CL_response.text, 'lxml')\n",
    "    CL_results = CL_soup.find_all('div', class_=\"geo-site-list-container\")\n",
    "    CL_results_1 = CL_results[0].find_all('ul')\n",
    "    CL_results_2 = CL_results_1[0].find_all('li') #this is the list of craiglist website for cities in state\n",
    "    \n",
    "    print(f\"State: {State_AB}\")\n",
    "    \n",
    "    for model in model_list: #iterate through on list of models\n",
    "        counter = 0\n",
    "        for result in CL_results_2: #iterating through cities in state\n",
    "            \n",
    "            CL_url = result.find('a')[\"href\"] #finds general craigslist for city in state\n",
    "            if CL_url[0:3] == 'htt': #to catch times when includes areas out of state, like Chicago for IN\n",
    "                CL_url_search = CL_url+f\"/search/cta?auto_make_model={model}&min_auto_year=2010&max_auto_year=2015\"\n",
    "                #print(CL_url_search)\n",
    "                CL_response = requests.get(CL_url_search)\n",
    "                # Create BeautifulSoup object; parse with 'html.parser'\n",
    "                CL_soup = BeautifulSoup(CL_response.text, 'lxml')\n",
    "                CL_results = CL_soup.find_all('span', class_=\"totalcount\") #total count is total number of model for sale\n",
    "                #print(CL_results)\n",
    "                if CL_results == []: #if get nothing returned in search, don't increment counter\n",
    "                    counter = counter\n",
    "                    #print(f\" {CL_url} has 0 {model}\")\n",
    "                else:\n",
    "                    counter = int(CL_results[0].text)+counter #if have cars then increment by number found\n",
    "                    #print(f\" {CL_url} has {CL_results[0].text} {model}\")\n",
    "                \n",
    "        result_dict[model] = counter #add results for that model to dictionary: key is model and value is counter\n",
    "        print(f\"Total number of model {model} in {State} is {counter}\")  \n",
    "    state_car_totals_df = state_car_totals_df.append(result_dict, ignore_index = True)"
   ]
  },
  {
   "cell_type": "code",
   "execution_count": 59,
   "metadata": {},
   "outputs": [
    {
     "data": {
      "text/html": [
       "<div>\n",
       "<style scoped>\n",
       "    .dataframe tbody tr th:only-of-type {\n",
       "        vertical-align: middle;\n",
       "    }\n",
       "\n",
       "    .dataframe tbody tr th {\n",
       "        vertical-align: top;\n",
       "    }\n",
       "\n",
       "    .dataframe thead th {\n",
       "        text-align: right;\n",
       "    }\n",
       "</style>\n",
       "<table border=\"1\" class=\"dataframe\">\n",
       "  <thead>\n",
       "    <tr style=\"text-align: right;\">\n",
       "      <th></th>\n",
       "      <th>state</th>\n",
       "      <th>subaru</th>\n",
       "      <th>honda</th>\n",
       "      <th>toyota</th>\n",
       "      <th>BMW</th>\n",
       "      <th>mercedes</th>\n",
       "      <th>ford</th>\n",
       "      <th>dodge</th>\n",
       "      <th>chrysler</th>\n",
       "      <th>chevrolet</th>\n",
       "      <th>chevy</th>\n",
       "    </tr>\n",
       "  </thead>\n",
       "  <tbody>\n",
       "    <tr>\n",
       "      <th>0</th>\n",
       "      <td>Arizona</td>\n",
       "      <td>131</td>\n",
       "      <td>879</td>\n",
       "      <td>946</td>\n",
       "      <td>472</td>\n",
       "      <td>334</td>\n",
       "      <td>2098</td>\n",
       "      <td>667</td>\n",
       "      <td>328</td>\n",
       "      <td>1409</td>\n",
       "      <td>224</td>\n",
       "    </tr>\n",
       "    <tr>\n",
       "      <th>1</th>\n",
       "      <td>California</td>\n",
       "      <td>1160</td>\n",
       "      <td>4718</td>\n",
       "      <td>6763</td>\n",
       "      <td>3502</td>\n",
       "      <td>2257</td>\n",
       "      <td>7794</td>\n",
       "      <td>1547</td>\n",
       "      <td>775</td>\n",
       "      <td>4262</td>\n",
       "      <td>844</td>\n",
       "    </tr>\n",
       "  </tbody>\n",
       "</table>\n",
       "</div>"
      ],
      "text/plain": [
       "        state subaru honda toyota   BMW mercedes  ford dodge chrysler  \\\n",
       "0     Arizona    131   879    946   472      334  2098   667      328   \n",
       "1  California   1160  4718   6763  3502     2257  7794  1547      775   \n",
       "\n",
       "  chevrolet chevy  \n",
       "0      1409   224  \n",
       "1      4262   844  "
      ]
     },
     "execution_count": 59,
     "metadata": {},
     "output_type": "execute_result"
    }
   ],
   "source": [
    "state_car_totals_df"
   ]
  },
  {
   "cell_type": "code",
   "execution_count": 65,
   "metadata": {},
   "outputs": [
    {
     "data": {
      "text/plain": [
       "[<li><a href=\"https://bloomington.craigslist.org\">bloomington</a></li>,\n",
       " <li><a href=\"https://evansville.craigslist.org\">evansville</a></li>,\n",
       " <li><a href=\"https://fortwayne.craigslist.org\">fort wayne</a></li>,\n",
       " <li><a href=\"https://indianapolis.craigslist.org\"><b>indianapolis</b></a></li>,\n",
       " <li><a href=\"https://kokomo.craigslist.org\">kokomo</a></li>,\n",
       " <li><a href=\"https://tippecanoe.craigslist.org\">lafayette / west lafayette</a></li>,\n",
       " <li><a href=\"https://muncie.craigslist.org\">muncie / anderson</a></li>,\n",
       " <li><a href=\"https://richmondin.craigslist.org\">richmond</a></li>,\n",
       " <li><a href=\"https://southbend.craigslist.org\">south bend / michiana</a></li>,\n",
       " <li><a href=\"https://terrehaute.craigslist.org\">terre haute</a></li>,\n",
       " <li><br/><a href=\"//chicago.craigslist.org/nwi/\">northwest indiana</a> (subregion of chicago site)\n",
       " \n",
       "     </li>]"
      ]
     },
     "execution_count": 65,
     "metadata": {},
     "output_type": "execute_result"
    }
   ],
   "source": [
    "CL_results_2"
   ]
  },
  {
   "cell_type": "code",
   "execution_count": 66,
   "metadata": {},
   "outputs": [
    {
     "data": {
      "text/plain": [
       "'//chicago.craigslist.org/nwi/'"
      ]
     },
     "execution_count": 66,
     "metadata": {},
     "output_type": "execute_result"
    }
   ],
   "source": [
    "CL_url"
   ]
  },
  {
   "cell_type": "code",
   "execution_count": 71,
   "metadata": {},
   "outputs": [
    {
     "data": {
      "text/plain": [
       "'//c'"
      ]
     },
     "execution_count": 71,
     "metadata": {},
     "output_type": "execute_result"
    }
   ],
   "source": [
    "CL_url[0:3]\n",
    "\n"
   ]
  },
  {
   "cell_type": "code",
   "execution_count": null,
   "metadata": {},
   "outputs": [],
   "source": []
  }
 ],
 "metadata": {
  "kernelspec": {
   "display_name": "Python 3",
   "language": "python",
   "name": "python3"
  },
  "language_info": {
   "codemirror_mode": {
    "name": "ipython",
    "version": 3
   },
   "file_extension": ".py",
   "mimetype": "text/x-python",
   "name": "python",
   "nbconvert_exporter": "python",
   "pygments_lexer": "ipython3",
   "version": "3.6.10"
  }
 },
 "nbformat": 4,
 "nbformat_minor": 4
}
