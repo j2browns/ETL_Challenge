{
 "cells": [
  {
   "cell_type": "code",
   "execution_count": 1,
   "metadata": {},
   "outputs": [],
   "source": [
    "import pandas as pd\n",
    "from bs4 import BeautifulSoup\n",
    "import requests\n",
    "from splinter import Browser\n",
    "import time"
   ]
  },
  {
   "cell_type": "code",
   "execution_count": null,
   "metadata": {},
   "outputs": [],
   "source": []
  },
  {
   "cell_type": "code",
   "execution_count": 2,
   "metadata": {},
   "outputs": [],
   "source": [
    "#setup for splinter\n",
    "executable_path = {'executable_path': 'c:/bin/chromedriver.exe'}\n",
    "browser = Browser('chrome', **executable_path, headless=False)\n",
    "url = 'https://www.britannica.com/topic/list-of-state-capitals-in-the-United-States-2119210'\n",
    "browser.visit(url)\n",
    "tables = pd.read_html(url)\n",
    "state_capitals = tables[0].copy()\n",
    "capital_list = state_capitals[\"capital\"].to_list()"
   ]
  },
  {
   "cell_type": "code",
   "execution_count": null,
   "metadata": {},
   "outputs": [],
   "source": []
  },
  {
   "cell_type": "code",
   "execution_count": 3,
   "metadata": {},
   "outputs": [],
   "source": [
    "# Craigslist data extractopm\n",
    "#using request and soup\n",
    "CL_url = \"https://minneapolis.craigslist.org/d/cars-trucks/search/cta\"\n",
    "CL_response = requests.get(CL_url)\n",
    "time.sleep(2)\n",
    "# Create BeautifulSoup object; parse with 'html.parser'\n",
    "CL_soup = BeautifulSoup(CL_response.text, 'lxml')\n",
    "#print(CL_soup)"
   ]
  },
  {
   "cell_type": "code",
   "execution_count": null,
   "metadata": {},
   "outputs": [],
   "source": []
  },
  {
   "cell_type": "code",
   "execution_count": 6,
   "metadata": {},
   "outputs": [
    {
     "ename": "SyntaxError",
     "evalue": "invalid syntax (<ipython-input-6-fbe32aeeed0d>, line 20)",
     "output_type": "error",
     "traceback": [
      "\u001b[1;36m  File \u001b[1;32m\"<ipython-input-6-fbe32aeeed0d>\"\u001b[1;36m, line \u001b[1;32m20\u001b[0m\n\u001b[1;33m    else\u001b[0m\n\u001b[1;37m        ^\u001b[0m\n\u001b[1;31mSyntaxError\u001b[0m\u001b[1;31m:\u001b[0m invalid syntax\n"
     ]
    }
   ],
   "source": [
    "model_list = [\"subaru\",\"honda\", \"toyota\",\"BMW\",\"mercedes\",\"ford\",\"dodge\", \"chrysler\",\"chevrolet\",\"chevy\"]\n",
    "city_list = capital_list\n",
    "model_df = pd.DataFrame()\n",
    "model_df[\"Make\"]=model_list\n",
    "\n",
    "for city in city_list:\n",
    "    \n",
    "    model_counter = []\n",
    "\n",
    "    for model in model_list:\n",
    "        print(f\" {city} and {model}\")\n",
    "        CL_url = f\"https://{city}.craigslist.org/search/cta?auto_make_model={model}&min_auto_year=2010&max_auto_year=2015\"\n",
    "        CL_response = requests.get(CL_url)\n",
    "        # Create BeautifulSoup object; parse with 'html.parser'\n",
    "        CL_soup = BeautifulSoup(CL_response.text, 'lxml')\n",
    "        CL_results = CL_soup.find_all('span', class_=\"totalcount\")\n",
    "        print(CL_results)\n",
    "        if CL_results == \"\":\n",
    "            counter = 0\n",
    "        else:\n",
    "            counter = CL_results[0].text\n",
    "        model_counter.append(int(counter))\n",
    "        \n",
    "    model_df[city]=model_counter"
   ]
  },
  {
   "cell_type": "code",
   "execution_count": null,
   "metadata": {},
   "outputs": [],
   "source": [
    "final_df = model_df.transpose(copy = True)"
   ]
  },
  {
   "cell_type": "code",
   "execution_count": null,
   "metadata": {},
   "outputs": [],
   "source": []
  },
  {
   "cell_type": "code",
   "execution_count": null,
   "metadata": {},
   "outputs": [],
   "source": []
  },
  {
   "cell_type": "code",
   "execution_count": null,
   "metadata": {},
   "outputs": [],
   "source": []
  },
  {
   "cell_type": "code",
   "execution_count": null,
   "metadata": {},
   "outputs": [],
   "source": []
  },
  {
   "cell_type": "code",
   "execution_count": null,
   "metadata": {},
   "outputs": [],
   "source": []
  },
  {
   "cell_type": "code",
   "execution_count": null,
   "metadata": {},
   "outputs": [],
   "source": []
  },
  {
   "cell_type": "code",
   "execution_count": null,
   "metadata": {},
   "outputs": [],
   "source": []
  },
  {
   "cell_type": "code",
   "execution_count": null,
   "metadata": {},
   "outputs": [],
   "source": []
  }
 ],
 "metadata": {
  "kernelspec": {
   "display_name": "Python 3",
   "language": "python",
   "name": "python3"
  },
  "language_info": {
   "codemirror_mode": {
    "name": "ipython",
    "version": 3
   },
   "file_extension": ".py",
   "mimetype": "text/x-python",
   "name": "python",
   "nbconvert_exporter": "python",
   "pygments_lexer": "ipython3",
   "version": "3.6.10"
  }
 },
 "nbformat": 4,
 "nbformat_minor": 4
}
